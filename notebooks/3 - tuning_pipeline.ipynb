{
 "cells": [
  {
   "cell_type": "markdown",
   "metadata": {},
   "source": [
    "Now that we know which models are performing better, it's time to perform cross validation and tune hyperparameters.\n",
    "- Do a google search for hyperparameter ranges for each type of model.\n",
    "\n",
    "GridSearch/RandomSearch are a great methods for checking off both of these tasks.\n",
    "- BUT we have a problem - if we calculated a numerical value to encode city (such as the mean of sale prices in that city) on the training data, we can't cross validate \n",
    "- The rows in each validation fold were part of the original calculation of the mean for that city - that means we're leaking information!\n",
    "- While sklearn's built in functions are extremely useful, sometimes it is necessary to do things ourselves\n",
    "\n",
    "You need to create two functions to replicate what Gridsearch does under the hood\n",
    "\n",
    "**`custom_cross_validation()`**\n",
    "- Should take the training data, and divide it into multiple train/validation splits. \n",
    "- Look into `sklearn.model_selection.KFold` to accomplish this - the [documentation](https://scikit-learn.org/stable/modules/generated/sklearn.model_selection.KFold.html) shows how to split a dataframe and loop through the indexes of your split data. \n",
    "- Within your function, you should compute the city means on the training folds just like you did in Notebook 1 - you may have to re-join the city column to do this - and then join these values to the validation fold\n",
    "\n",
    "**`hyperparameter_search()`**\n",
    "- Should take the validation and training splits from your previous function, along with your dictionary of hyperparameter values\n",
    "- For each set of hyperparameter values, fit your chosen model on each set of training folds, and take the average of your chosen scoring metric. [itertools.product()](https://docs.python.org/3/library/itertools.html) will be helpful for looping through all combinations of hyperparameter values\n",
    "- Your function should output the hyperparameter values corresponding the highest average score across all folds. Alternatively, it could also output a model object fit on the full training dataset with these parameters.\n",
    "\n",
    "Docstrings have been provided below to get you started. Once you're done developing your functions, you should move them to `functions_variables.py` to keep your notebook clean \n",
    "\n",
    "Bear in mind that these instructions are just one way to tackle this problem - the inputs and output formats don't need to be exactly as specified here."
   ]
  },
  {
   "cell_type": "code",
   "execution_count": 1,
   "metadata": {},
   "outputs": [],
   "source": [
    "import pandas as pd\n",
    "import numpy as np\n",
    "from sklearn.model_selection import KFold\n",
    "import itertools\n",
    "from sklearn.ensemble import RandomForestRegressor\n",
    "from sklearn.metrics import mean_squared_error, mean_absolute_error, r2_score"
   ]
  },
  {
   "cell_type": "code",
   "execution_count": 2,
   "metadata": {},
   "outputs": [],
   "source": [
    "def custom_cross_validation(training_data, n_splits=5):\n",
    "    '''Creates n_splits sets of training and validation folds\n",
    "\n",
    "    Args:\n",
    "      training_data: the dataframe of features and target to be divided into folds\n",
    "      n_splits: the number of sets of folds to be created\n",
    "\n",
    "    Returns:\n",
    "      A tuple of lists, where the first index is a list of the training folds, \n",
    "      and the second the corresponding validation fold\n",
    "    '''\n",
    "    kf = KFold(n_splits=n_splits, shuffle=True, random_state=42)\n",
    "    training_folds = []\n",
    "    validation_folds = []\n",
    "\n",
    "    for train_index, val_index in kf.split(training_data):\n",
    "        train_fold = training_data.iloc[train_index]\n",
    "        val_fold = training_data.iloc[val_index]\n",
    "\n",
    "        # Compute city means on the training fold\n",
    "        city_means = train_fold.groupby('location.address.city')['description.sold_price'].mean()\n",
    "        city_means = city_means.to_frame().rename(columns={'description.sold_price': 'city_mean_price'}).reset_index()\n",
    "\n",
    "        # Merge city means with the validation fold\n",
    "        val_fold = val_fold.merge(city_means, on='location.address.city', how='left')\n",
    "        train_fold = train_fold.merge(city_means, on='location.address.city', how='left')\n",
    "\n",
    "        training_folds.append(train_fold)\n",
    "        validation_folds.append(val_fold)\n",
    "\n",
    "    return training_folds, validation_folds"
   ]
  },
  {
   "cell_type": "code",
   "execution_count": 3,
   "metadata": {},
   "outputs": [],
   "source": [
    "def hyperparameter_search(training_folds, validation_folds, param_grid):\n",
    "    '''Outputs the best combination of hyperparameter settings in the param grid, \n",
    "    given the training and validation folds\n",
    "\n",
    "    Args:\n",
    "      training_folds: the list of training fold dataframes\n",
    "      validation_folds: the list of validation fold dataframes\n",
    "      param_grid: the dictionary of possible hyperparameter values for the chosen model\n",
    "\n",
    "    Returns:\n",
    "      A list of the best hyperparameter settings based on the chosen metric\n",
    "    '''\n",
    "    best_params = None\n",
    "    best_score = float('inf')\n",
    "\n",
    "    # Generate all combinations of hyperparameter values\n",
    "    param_combinations = list(itertools.product(*param_grid.values()))\n",
    "\n",
    "    for params in param_combinations:\n",
    "        param_dict = dict(zip(param_grid.keys(), params))\n",
    "        scores = []\n",
    "\n",
    "        for train_fold, val_fold in zip(training_folds, validation_folds):\n",
    "            model = RandomForestRegressor(**param_dict)\n",
    "            X_train, y_train = train_fold.drop(columns=['description.sold_price']), train_fold['description.sold_price']\n",
    "            X_val, y_val = val_fold.drop(columns=['description.sold_price']), val_fold['description.sold_price']\n",
    "\n",
    "            model.fit(X_train, y_train)\n",
    "            y_pred = model.predict(X_val)\n",
    "            score = mean_squared_error(y_val, y_pred)\n",
    "            scores.append(score)\n",
    "\n",
    "        avg_score = np.mean(scores)\n",
    "\n",
    "        if avg_score < best_score:\n",
    "            best_score = avg_score\n",
    "            best_params = param_dict\n",
    "\n",
    "    return best_params"
   ]
  },
  {
   "cell_type": "code",
   "execution_count": null,
   "metadata": {},
   "outputs": [],
   "source": [
    "# example usage\n",
    "train_folds, val_folds = custom_cross_validation(df, n_splits=5)"
   ]
  },
  {
   "cell_type": "code",
   "execution_count": null,
   "metadata": {},
   "outputs": [],
   "source": [
    "# example usage\n",
    "param_grid = {\n",
    "    'n_estimators': [100, 200],\n",
    "    'max_depth': [None, 10, 20],\n",
    "    'min_samples_split': [2, 5],\n",
    "    'min_samples_leaf': [1, 2]\n",
    "}\n",
    "best_params = hyperparameter_search(train_folds, val_folds, param_grid)\n",
    "print(\"Best Hyperparameters:\", best_params)"
   ]
  },
  {
   "cell_type": "markdown",
   "metadata": {},
   "source": [
    "We want to make sure that we save our models.  In the old days, one just simply pickled (serialized) the model.  Now, however, certain model types have their own save format.  If the model is from sklearn, it can be pickled, if it's xgboost, for example, the newest format to save it in is JSON, but it can also be pickled.  It's a good idea to stay with the most current methods. \n",
    "- you may want to create a new `models/` subdirectory in your repo to stay organized"
   ]
  },
  {
   "cell_type": "code",
   "execution_count": null,
   "metadata": {},
   "outputs": [],
   "source": [
    "# Random Forest\n",
    "# Initialize the model\n",
    "rf_model_all = RandomForestRegressor(random_state=42)\n",
    "\n",
    "# Train the model\n",
    "rf_model_all.fit(X_train, y_train)\n",
    "\n",
    "# Predict on the test set\n",
    "y_pred_rf_all = rf_model_all.predict(X_test)\n",
    "\n",
    "# Evaluate Random Forest model\n",
    "mse_rf = mean_squared_error(y_test, y_pred_rf)\n",
    "rmse_rf = mean_squared_error(y_test, y_pred_rf, squared=False)\n",
    "mae_rf = mean_absolute_error(y_test, y_pred_rf)\n",
    "r2_rf = r2_score(y_test, y_pred_rf)\n",
    "\n",
    "print(\"\\n\\nRandom Forest Metrics:\")\n",
    "print(f\"MSE: {mse_rf}\")\n",
    "print(f\"RMSE: {rmse_rf}\")\n",
    "print(f\"MAE: {mae_rf}\")\n",
    "print(f\"R²: {r2_rf}\")"
   ]
  },
  {
   "cell_type": "code",
   "execution_count": null,
   "metadata": {},
   "outputs": [],
   "source": [
    "# Refit models with selected features using Lasso\n",
    "# Ensure `selected_features` is a boolean array\n",
    "selected_features = np.array(lasso.coef_ != 0)\n",
    "X_train_selected = X_train_scaled[:, selected_features]\n",
    "X_test_selected = X_test_scaled[:, selected_features]\n",
    "\n",
    "# Random Forest\n",
    "# Initialize the model\n",
    "rf_model_lasso = RandomForestRegressor(random_state=42)\n",
    "\n",
    "# Train the model\n",
    "rf_model_lasso.fit(X_train_selected, y_train)\n",
    "\n",
    "# Predict on the test set\n",
    "y_pred_rf_lasso = rf_model_lasso.predict(X_test_selected)\n",
    "\n",
    "# Evaluate Random Forest model\n",
    "mse_rf_lasso = mean_squared_error(y_test, y_pred_rf_lasso)\n",
    "rmse_rf_lasso = mean_squared_error(y_test, y_pred_rf_lasso, squared=False)\n",
    "mae_rf_lasso = mean_absolute_error(y_test, y_pred_rf_lasso)\n",
    "r2_rf_lasso = r2_score(y_test, y_pred_rf_lasso)\n",
    "\n",
    "print(\"\\n\\nRandom Forest Metrics with Lasso Regularization:\")\n",
    "print(f\"MSE: {mse_rf_lasso}\")\n",
    "print(f\"RMSE: {rmse_rf_lasso}\")\n",
    "print(f\"MAE: {mae_rf_lasso}\")\n",
    "print(f\"R²: {r2_rf_lasso}\")"
   ]
  },
  {
   "cell_type": "code",
   "execution_count": null,
   "metadata": {},
   "outputs": [],
   "source": [
    "# Refit models with selected features using Recursive Feature Elimination (RFE)\n",
    "# Ensure `selected_features` is a boolean array\n",
    "selected_features_rfe = np.array(rfe.support_)\n",
    "X_train_selected_rfe = X_train_scaled[:, selected_features_rfe]\n",
    "X_test_selected_rfe = X_test_scaled[:, selected_features_rfe]\n",
    "\n",
    "# Random Forest\n",
    "# Initialize the model\n",
    "rf_model_rfe = RandomForestRegressor(random_state=42)\n",
    "\n",
    "# Train the model\n",
    "rf_model_rfe.fit(X_train_selected_rfe, y_train)\n",
    "\n",
    "# Predict on the test set\n",
    "y_pred_rf_rfe = rf_model_rfe.predict(X_test_selected_rfe)\n",
    "\n",
    "# Evaluate Random Forest model\n",
    "mse_rf_rfe = mean_squared_error(y_test, y_pred_rf_rfe)\n",
    "rmse_rf_rfe = mean_squared_error(y_test, y_pred_rf_rfe, squared=False)\n",
    "mae_rf_rfe = mean_absolute_error(y_test, y_pred_rf_rfe)\n",
    "r2_rf_rfe = r2_score(y_test, y_pred_rf_rfe)\n",
    "\n",
    "print(\"\\n\\nRandom Forest Metrics with RFE Regularization:\")\n",
    "print(f\"MSE: {mse_rf_rfe}\")\n",
    "print(f\"RMSE: {rmse_rf_rfe}\")\n",
    "print(f\"MAE: {mae_rf_rfe}\")\n",
    "print(f\"R²: {r2_rf_rfe}\")"
   ]
  },
  {
   "cell_type": "markdown",
   "metadata": {},
   "source": [
    "Once you've identified which model works the best, implement a prediction pipeline to make sure that you haven't leaked any data, and that the model could be easily deployed if desired.\n",
    "- Your pipeline should load the data, process it, load your saved tuned model, and output a set of predictions\n",
    "- Assume that the new data is in the same JSON format as your original data - you can use your original data to check that the pipeline works correctly\n",
    "- Beware that a pipeline can only handle functions with fit and transform methods.\n",
    "- Classes can be used to get around this, but now sklearn has a wrapper for user defined functions.\n",
    "- You can develop your functions or classes in the notebook here, but once they are working, you should import them from `functions_variables.py` "
   ]
  },
  {
   "cell_type": "code",
   "execution_count": null,
   "metadata": {},
   "outputs": [],
   "source": [
    "# Build pipeline here"
   ]
  },
  {
   "cell_type": "markdown",
   "metadata": {},
   "source": [
    "Pipelines come from sklearn.  When a pipeline is pickled, all of the information in the pipeline is stored with it.  For example, if we were deploying a model, and we had fit a scaler on the training data, we would want the same, already fitted scaling object to transform the new data with.  This is all stored when the pipeline is pickled.\n",
    "- save your final pipeline in your `models/` folder"
   ]
  },
  {
   "cell_type": "code",
   "execution_count": null,
   "metadata": {},
   "outputs": [],
   "source": [
    "# save your pipeline here"
   ]
  }
 ],
 "metadata": {
  "kernelspec": {
   "display_name": "Python 3",
   "language": "python",
   "name": "python3"
  },
  "language_info": {
   "codemirror_mode": {
    "name": "ipython",
    "version": 3
   },
   "file_extension": ".py",
   "mimetype": "text/x-python",
   "name": "python",
   "nbconvert_exporter": "python",
   "pygments_lexer": "ipython3",
   "version": "3.11.7"
  }
 },
 "nbformat": 4,
 "nbformat_minor": 2
}
